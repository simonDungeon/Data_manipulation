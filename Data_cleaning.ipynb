{
  "nbformat": 4,
  "nbformat_minor": 0,
  "metadata": {
    "colab": {
      "name": "Data_cleaning.ipynb",
      "provenance": [],
      "collapsed_sections": [],
      "authorship_tag": "ABX9TyMAK1ysWihTjn42yQGzqxuA",
      "include_colab_link": true
    },
    "kernelspec": {
      "name": "python3",
      "display_name": "Python 3"
    }
  },
  "cells": [
    {
      "cell_type": "markdown",
      "metadata": {
        "id": "view-in-github",
        "colab_type": "text"
      },
      "source": [
        "<a href=\"https://colab.research.google.com/github/simonDungeon/Data_manipulation/blob/master/Data_cleaning.ipynb\" target=\"_parent\"><img src=\"https://colab.research.google.com/assets/colab-badge.svg\" alt=\"Open In Colab\"/></a>"
      ]
    },
    {
      "cell_type": "markdown",
      "metadata": {
        "id": "uWYjkaSZdspS",
        "colab_type": "text"
      },
      "source": [
        "Range Constraints "
      ]
    },
    {
      "cell_type": "code",
      "metadata": {
        "id": "bL54i6jfZuvW",
        "colab_type": "code",
        "colab": {}
      },
      "source": [
        "# Convert tire_sizes to integer\n",
        "ride_sharing['tire_sizes'] = ride_sharing['tire_sizes'].astype('int')\n",
        "\n",
        "# Set all values above 27 to 27\n",
        "ride_sharing.loc[ride_sharing['tire_sizes'] > 27, 'tire_sizes'] = 27\n",
        "\n",
        "# Reconvert tire_sizes back to categorical\n",
        "ride_sharing['tire_sizes'] = ride_sharing['tire_sizes'].astype('category')\n",
        "\n",
        "# Print tire size description\n",
        "print(ride_sharing['tire_sizes'].describe())"
      ],
      "execution_count": 0,
      "outputs": []
    },
    {
      "cell_type": "markdown",
      "metadata": {
        "id": "XHh8Ps5EdeB6",
        "colab_type": "text"
      },
      "source": [
        "Date-time"
      ]
    },
    {
      "cell_type": "code",
      "metadata": {
        "id": "yDLr-97hc6aH",
        "colab_type": "code",
        "colab": {}
      },
      "source": [
        "# Convert ride_date to datetime\n",
        "ride_sharing['ride_dt'] = pd.to_datetime(ride_sharing['ride_date'])\n",
        "\n",
        "# Save today's date\n",
        "today = dt.date.today()\n",
        "\n",
        "# Set all in the future to today's date\n",
        "ride_sharing.loc[ride_sharing['ride_dt'] > today, 'ride_dt'] = today\n",
        "\n",
        "# Print maximum of ride_dt column\n",
        "print(ride_sharing['ride_dt'].max())"
      ],
      "execution_count": 0,
      "outputs": []
    },
    {
      "cell_type": "markdown",
      "metadata": {
        "id": "z862x_IKdxDB",
        "colab_type": "text"
      },
      "source": [
        "Subsetting on metadata and keeping all **duplicate** records gives you a better bird-eye's view over your data and how to duplicate it!"
      ]
    },
    {
      "cell_type": "code",
      "metadata": {
        "id": "qLSWuOaZddJK",
        "colab_type": "code",
        "colab": {}
      },
      "source": [
        "# Find duplicates\n",
        "duplicates = ride_sharing.duplicated(subset = \"ride_id\", keep = False)\n",
        "\n",
        "# Sort your duplicated rides\n",
        "duplicated_rides = ride_sharing[duplicates].sort_values(by = 'ride_id')\n",
        "\n",
        "# Print relevant columns of duplicated_rides\n",
        "print(duplicated_rides[['ride_id','duration','user_birth_year']])"
      ],
      "execution_count": 0,
      "outputs": []
    },
    {
      "cell_type": "markdown",
      "metadata": {
        "id": "Etru5PCwkpzf",
        "colab_type": "text"
      },
      "source": [
        "\n",
        "```\n",
        "ride_id  duration  user_birth_year\n",
        "    22       33        10             1979\n",
        "    39       33         2             1979\n",
        "    53       55         9             1985\n",
        "    65       55         9             1985\n",
        "    74       71        11             1997\n",
        "    75       71        11             1997\n",
        "    76       89         9             1986\n",
        "    77       89         9             2060\n",
        "\n",
        "    "
      ]
    },
    {
      "cell_type": "code",
      "metadata": {
        "id": "Jbef0i3yv5jB",
        "colab_type": "code",
        "colab": {}
      },
      "source": [
        "# Drop complete duplicates from ride_sharing\n",
        "ride_dup = ride_sharing.drop_duplicates()\n",
        "\n",
        "# Create statistics dictionary for aggregation function\n",
        "statistics = {'user_birth_year': 'min', 'duration': 'mean'}\n",
        "\n",
        "# Group by ride_id and compute new statistics\n",
        "ride_unique = ride_dup.groupby(by = 'ride_id').agg(statistics).reset_index()\n",
        "\n",
        "# Find duplicated values again\n",
        "duplicates = ride_unique.duplicated(subset = 'ride_id', keep = False)\n",
        "duplicated_rides = ride_unique[duplicates == True]\n",
        "\n",
        "# Assert duplicates are processed\n",
        "assert duplicated_rides.shape[0] == 0"
      ],
      "execution_count": 0,
      "outputs": []
    },
    {
      "cell_type": "markdown",
      "metadata": {
        "id": "uRf8op8ckfyG",
        "colab_type": "text"
      },
      "source": [
        ""
      ]
    }
  ]
}